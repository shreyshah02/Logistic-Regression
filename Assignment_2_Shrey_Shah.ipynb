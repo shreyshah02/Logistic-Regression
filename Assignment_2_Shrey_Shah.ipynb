{
 "cells": [
  {
   "cell_type": "markdown",
   "metadata": {},
   "source": [
    "Including the required libraries. Downloading the MNIST dataset from the keras library"
   ]
  },
  {
   "cell_type": "code",
   "execution_count": 11,
   "metadata": {},
   "outputs": [],
   "source": [
    "import numpy as np\n",
    "from matplotlib import pyplot as plt\n",
    "from keras.datasets import mnist"
   ]
  },
  {
   "cell_type": "markdown",
   "metadata": {},
   "source": [
    "Loading the training and testing data for the mnist dataset"
   ]
  },
  {
   "cell_type": "code",
   "execution_count": 12,
   "metadata": {},
   "outputs": [],
   "source": [
    "(x_train, y_train), (x_test, y_test) = mnist.load_data()\n"
   ]
  },
  {
   "cell_type": "markdown",
   "metadata": {},
   "source": [
    "Checking the amount of training and testing data available"
   ]
  },
  {
   "cell_type": "code",
   "execution_count": 13,
   "metadata": {},
   "outputs": [
    {
     "name": "stdout",
     "output_type": "stream",
     "text": [
      "The training set contains:  60000\n",
      "test set:  10000\n"
     ]
    }
   ],
   "source": [
    "print('The training set contains: ', len(x_train))\n",
    "print('test set: ', len(x_test))"
   ]
  },
  {
   "cell_type": "markdown",
   "metadata": {},
   "source": [
    "Determining the shape of the training data and training label"
   ]
  },
  {
   "cell_type": "code",
   "execution_count": 14,
   "metadata": {},
   "outputs": [
    {
     "name": "stdout",
     "output_type": "stream",
     "text": [
      "(60000, 28, 28)\n",
      "(60000,)\n"
     ]
    }
   ],
   "source": [
    "print(x_train.shape)\n",
    "print(y_train.shape)"
   ]
  },
  {
   "cell_type": "markdown",
   "metadata": {},
   "source": [
    "Performing the required preprocessing on the training and testing data. Reshaping the training data and testing data such that all the images are flattened into column and each column of the dataset X represents one training example. Additionally, normalizing the training and testing data by dividing each pixel value in the dataset by 255.  Reshaping the training and testing label to a row vector. The last digit of my student ID = 0, thus modifying the labels of the training and testing data to contain value 1 for an image containing the number 0 and a value of 0 otherwise. Additionally, printing the shapes of the training and testing data and labels to confirm correct preprocessing."
   ]
  },
  {
   "cell_type": "code",
   "execution_count": 15,
   "metadata": {},
   "outputs": [
    {
     "name": "stdout",
     "output_type": "stream",
     "text": [
      "(784, 60000)\n",
      "(784, 10000)\n",
      "(1, 60000)\n",
      "(1, 10000)\n"
     ]
    }
   ],
   "source": [
    "# Performing the preprocessing steps on the data set\n",
    "# Reshaping the training and test set such that each column represents an image\n",
    "# Reshaping the training and test labels into row vectors\n",
    "x_train = np.reshape(x_train, (60000, -1))\n",
    "x_train = x_train.T\n",
    "y_train = np.reshape(y_train, (1, -1))\n",
    "x_test = np.reshape(x_test, (10000, -1))\n",
    "x_test = x_test.T\n",
    "y_test = np.reshape(y_test, (1, -1))\n",
    "# Normalizing the data in training and test sets\n",
    "x_train = x_train/255\n",
    "x_test = x_test/255\n",
    "# Updating the labels in the training and test set\n",
    "# Last digit of my student id = 0\n",
    "# Thus, the label of an image of number 0 should be 1 and 0 otherwise\n",
    "# This is achieved by creating masks for the training and testing labels such that the masks have True for indices\n",
    "# which correspond to an image of number 0\n",
    "id_mask_train = y_train == 0\n",
    "id_mask_test = y_test == 0\n",
    "y_train[id_mask_train] = 1\n",
    "y_train[np.logical_not(id_mask_train)] = 0\n",
    "y_test[id_mask_test] = 1\n",
    "y_test[np.logical_not(id_mask_test)] = 0\n",
    "# Checking the shape of the training and test sets\n",
    "print(x_train.shape)\n",
    "print(x_test.shape)\n",
    "print(y_train.shape)\n",
    "print(y_test.shape)"
   ]
  },
  {
   "cell_type": "markdown",
   "metadata": {},
   "source": [
    "A function to computing the sigmoid for an input parameter"
   ]
  },
  {
   "cell_type": "code",
   "execution_count": 16,
   "metadata": {},
   "outputs": [],
   "source": [
    "def activation_sigmoid(z):\n",
    "    activ = 1/(1 + np.exp(-z))\n",
    "    return activ"
   ]
  },
  {
   "cell_type": "markdown",
   "metadata": {},
   "source": [
    "Class for performing the Logistic Regression. The constructor method (__init__) loads and splits the training data into training + validation dataset. Additionally, it initializes the weights and the bias with random values. \n",
    "\n",
    "The method train_model, trains the model on the training set, starting with random weights and bias and performing the gradient descent for each value of alpha in the list provided during class initialization. From these the method tests each trained model with different alpha value by testing it on the validation set. The value of alpha which provides the least cost on the validation set is selected and used for training the model starting with random weights and bias and performing the gradeint descent algorithm. The number of epochs (iterations for the gradient descent algorithm) was set to 6000, after trying the values 1000, 2000, 3000, 5000, 6000, and 7000. The accuracy for 6000 epochs vs 7000 epochs was virtually identical and thus I used 6000 epochs.\n",
    "\n",
    "The method test_model, tests the trained model in the training step on the untouched test dataset, thus providing the performance of the trained model on previoulsy unseen data. "
   ]
  },
  {
   "cell_type": "code",
   "execution_count": 19,
   "metadata": {},
   "outputs": [],
   "source": [
    "class logisticRegression :\n",
    "    def __init__(self, x_train, y_train, x_test, y_test, alpha):\n",
    "        self.x_train = x_train[:, :48000]\n",
    "        self.y_train = y_train[:, :48000]\n",
    "        self.x_test = x_test\n",
    "        self.y_test = y_test\n",
    "        self.alpha = alpha\n",
    "        self.x_val = x_train[:, 48000:]\n",
    "        self.y_val = y_train[:, 48000:]\n",
    "        self.w = np.random.random((self.x_train.shape[0],1))\n",
    "        self.b = np.random.random()\n",
    "        self.m = self.x_train.shape[1]\n",
    "        \n",
    "    def train_model(self):\n",
    "        # Checking to see if a single value of alpha is provided or if multiple values are provided. \n",
    "        # If multiple values are provided then the best learning rate is selected by cross validation\n",
    "        if len(self.alpha)>1:\n",
    "            # To hold the cost of models learned by various alpha values\n",
    "            cost_val = []\n",
    "            # Looping over all the learning rates to determine the best one\n",
    "            for j in self.alpha:\n",
    "                print('Cross Validation for alpha = ', j)  \n",
    "                # Performing gradient descent to update the weights and bias of the model. The number of epochs is set  to 6000\n",
    "                # after experimenting with different values including 1000, 2000, 3000, 5000, 5000, 7000.\n",
    "                for i in range(6000):\n",
    "                    # Computing the affine transformation\n",
    "                    Z = self.w.T.dot(self.x_train) + self.b\n",
    "                    # Computing the sigmoid activation of Z\n",
    "                    A = activation_sigmoid(Z)\n",
    "                    \n",
    "                    # Computing the vectorized cost function\n",
    "                    logA = np.log(A)\n",
    "                    log1_A = np.log(1 - A)\n",
    "                    cost = - np.sum(self.y_train * logA + (1 - self.y_train) * log1_A) / self.m\n",
    "\n",
    "                    # Computing the gradients \n",
    "                    dZ = A - self.y_train\n",
    "                    dw = self.x_train.dot(dZ.T) / self.m\n",
    "                    db = np.sum(dZ)/self.m\n",
    "\n",
    "                    # Updating the weights and the bias\n",
    "                    self.w -= j * dw\n",
    "                    self.b -= j * db\n",
    "\n",
    "                # Computing the cost for the images in the validation set\n",
    "                # Computing the affine transformation\n",
    "                zval = self.w.T.dot(self.x_val) + self.b\n",
    "                # Computing the sigmoid activation value\n",
    "                Aval = activation_sigmoid(zval)\n",
    "                logAval = np.log(Aval)\n",
    "                log1_Aval = np.log(1 - Aval)\n",
    "                # Determining the cost on the validation set for the current learned model\n",
    "                cval = -np.sum(self.y_val * logAval + (1 - self.y_val)* log1_Aval)/self.x_val.shape[1]\n",
    "                # Appending the cost to the list containing cost for different alpha values on the validation set\n",
    "                cost_val.append(cval)\n",
    "                print('Cost for alpha = ', j, '= ', cval)\n",
    "                # Initializing weights randomly for the training with the next alpha value\n",
    "                self.w = np.random.random((self.x_train.shape[0],1))\n",
    "                self.b = np.random.random()\n",
    "\n",
    "            # Selecting the alpha value with the minimum cost on the validation set\n",
    "            alpha = self.alpha[cost_val.index(min(cost_val))]\n",
    "        else:\n",
    "            alpha = self.alpha[0]\n",
    "        print('The best learning rate = ', alpha)\n",
    "        print('Training the model using alpha = ' ,alpha)\n",
    "        self.w = np.random.random((self.x_train.shape[0],1))\n",
    "        self.b = np.random.random()\n",
    "        # Training the model using gradient descent with 6000 iterations\n",
    "        for i in range(6000):\n",
    "            Z = self.w.T.dot(self.x_train) + self.b\n",
    "            A = activation_sigmoid(Z)\n",
    "\n",
    "            logA = np.log(A)\n",
    "            log1_A = np.log(1 - A)\n",
    "            cost = - np.sum(self.y_train * logA + (1 - self.y_train) * log1_A) / self.m\n",
    "\n",
    "            dZ = A - self.y_train\n",
    "            dw = self.x_train.dot(dZ.T) / self.m\n",
    "            db = np.sum(dZ)/self.m\n",
    "\n",
    "            self.w -= alpha * dw\n",
    "            self.b -= alpha * db\n",
    "            \n",
    "            # Ploting the learning curve - the cost vs the iterations\n",
    "            plt.plot(i, cost, 'bo')\n",
    "            plt.xlabel('Iterations for Gradient Descent')\n",
    "            plt.ylabel('Cost function')\n",
    "            plt.title('Learning Curve')\n",
    "        \n",
    "        print('The training error = ', cost)\n",
    "        # Rounding the prediction values to the nearest integer\n",
    "        Apred = np.around(A)\n",
    "        # Computing the accuracy on the training dataset of the trained model\n",
    "        accuracy = np.mean(Apred == self.y_train)\n",
    "        print('The Training accuracy = ', accuracy)\n",
    "        return self.w, self.b\n",
    "    \n",
    "    def test_model(self):\n",
    "        # Performing the prediction on the test dataset using the trained model\n",
    "        ztest = self.w.T.dot(self.x_test) + self.b\n",
    "        Atest = activation_sigmoid(ztest)\n",
    "        \n",
    "        # Computing the cost on the test dataset\n",
    "        logA_test = np.log(Atest)\n",
    "        log1_Atest = np.log(1 - Atest)\n",
    "        cost_test = - np.sum(self.y_test * logA_test + (1 - self.y_test)* log1_Atest)/self.x_test.shape[1]\n",
    "        print('The testing error  = ', cost_test)\n",
    "        # Rounding the prediction values to the nearest integer\n",
    "        Apred = np.around(Atest)\n",
    "        # Computing the accuracy on the test dataset of the trained model\n",
    "        accuracy = np.mean(Apred == self.y_test)\n",
    "        print('Testing accuracy = ', accuracy)"
   ]
  },
  {
   "cell_type": "markdown",
   "metadata": {},
   "source": [
    "Creating an object of the class for performing the logistic regression on the MNIST dataset. The various values of the alpha used for checking 5, 2, 1, 0.5, 0.2, 0.1. When the class method train_data is called, it determines the best learning rate from all provided as parameter during class initialization. Then using the best learning rate (which provides the minimum cost), the model is trained and the closed is plotted vs the iterations (epochs) of the gradient descent algorithm."
   ]
  },
  {
   "cell_type": "code",
   "execution_count": 20,
   "metadata": {},
   "outputs": [
    {
     "name": "stdout",
     "output_type": "stream",
     "text": [
      "\n",
      "Training Mode\n",
      "Cross Validation for alpha =  5\n"
     ]
    },
    {
     "name": "stderr",
     "output_type": "stream",
     "text": [
      "C:\\Users\\shrey\\AppData\\Roaming\\Python\\Python36\\site-packages\\ipykernel_launcher.py:33: RuntimeWarning: divide by zero encountered in log\n",
      "C:\\Users\\shrey\\AppData\\Roaming\\Python\\Python36\\site-packages\\ipykernel_launcher.py:34: RuntimeWarning: invalid value encountered in multiply\n"
     ]
    },
    {
     "name": "stdout",
     "output_type": "stream",
     "text": [
      "Cost for alpha =  5 =  0.025280193789209208\n",
      "Cross Validation for alpha =  2\n",
      "Cost for alpha =  2 =  0.024563777874491228\n",
      "Cross Validation for alpha =  1\n",
      "Cost for alpha =  1 =  0.025258516704746853\n",
      "Cross Validation for alpha =  0.5\n",
      "Cost for alpha =  0.5 =  0.026332561386352385\n",
      "The best learning rate =  2\n",
      "Training the model using alpha =  2\n"
     ]
    },
    {
     "name": "stderr",
     "output_type": "stream",
     "text": [
      "C:\\Users\\shrey\\AppData\\Roaming\\Python\\Python36\\site-packages\\ipykernel_launcher.py:75: RuntimeWarning: divide by zero encountered in log\n",
      "C:\\Users\\shrey\\AppData\\Roaming\\Python\\Python36\\site-packages\\ipykernel_launcher.py:76: RuntimeWarning: invalid value encountered in multiply\n"
     ]
    },
    {
     "name": "stdout",
     "output_type": "stream",
     "text": [
      "The training error =  0.022221658814956618\n",
      "The Training accuracy =  0.9934375\n",
      "\n",
      "Testing Mode\n",
      "The testing error  =  0.025043834704278557\n",
      "Testing accuracy =  0.9918\n",
      "The Learning Curve is given as below:\n"
     ]
    },
    {
     "data": {
      "image/png": "[encoded data removed]",
      "text/plain": [
       "<Figure size 432x288 with 1 Axes>"
      ]
     },
     "metadata": {
      "needs_background": "light"
     },
     "output_type": "display_data"
    }
   ],
   "source": [
    "alpha = [5, 2, 1, 0.5]\n",
    "#alpha = [2]\n",
    "ID_notID = logisticRegression(x_train, y_train, x_test, y_test, alpha)\n",
    "print('\\nTraining Mode')\n",
    "w, b = ID_notID.train_model()\n",
    "print('\\nTesting Mode')\n",
    "ID_notID.test_model()\n",
    "print('The Learning Curve is given as below:')"
   ]
  },
  {
   "cell_type": "markdown",
   "metadata": {},
   "source": [
    "Testing the trained model on random test images, one which is not 0 and another one which is a 0; and returning the prediction without rounding it. As it can be seen, for the ground truth value = 0, the prediction is extremely small (5 x 10^-8).\n",
    "\n",
    "Similarly, for the ground truth value = 1, the prediction = 0.999, which is very close to 1. Thus, the model is working well. "
   ]
  },
  {
   "cell_type": "code",
   "execution_count": 21,
   "metadata": {},
   "outputs": [
    {
     "name": "stdout",
     "output_type": "stream",
     "text": [
      "Prediction :  [5.24796005e-08]\n",
      "Ground Truth:  0\n"
     ]
    }
   ],
   "source": [
    "Z_test_78 = w.T.dot(x_test[:, 78]) + b\n",
    "A_test_78 = activation_sigmoid(Z_test_78)\n",
    "print(\"Prediction : \", A_test_78)\n",
    "print('Ground Truth: ', y_test[0, 78])"
   ]
  },
  {
   "cell_type": "code",
   "execution_count": 22,
   "metadata": {},
   "outputs": [
    {
     "name": "stdout",
     "output_type": "stream",
     "text": [
      "Ground Truth:  1\n",
      "prediction:  [0.99904722]\n"
     ]
    },
    {
     "data": {
      "text/plain": [
       "<matplotlib.image.AxesImage at 0x218a94be828>"
      ]
     },
     "execution_count": 22,
     "metadata": {},
     "output_type": "execute_result"
    },
    {
     "data": {
      "image/png": "[encoded data removed]",
      "text/plain": [
       "<Figure size 432x288 with 1 Axes>"
      ]
     },
     "metadata": {
      "needs_background": "light"
     },
     "output_type": "display_data"
    }
   ],
   "source": [
    "print('Ground Truth: ',y_test[0,3])\n",
    "z_test_3 = w.T.dot(x_test[:,3]) + b\n",
    "A = activation_sigmoid(z_test_3)\n",
    "print('prediction: ', A)\n",
    "plt.imshow(np.reshape(x_test[:, 3], (28, 28)))"
   ]
  },
  {
   "cell_type": "code",
   "execution_count": null,
   "metadata": {},
   "outputs": [],
   "source": []
  }
 ],
 "metadata": {
  "kernelspec": {
   "display_name": "cv",
   "language": "python",
   "name": "cv"
  },
  "language_info": {
   "codemirror_mode": {
    "name": "ipython",
    "version": 3
   },
   "file_extension": ".py",
   "mimetype": "text/x-python",
   "name": "python",
   "nbconvert_exporter": "python",
   "pygments_lexer": "ipython3",
   "version": "3.6.8"
  }
 },
 "nbformat": 4,
 "nbformat_minor": 2
}
